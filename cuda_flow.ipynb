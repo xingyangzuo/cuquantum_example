{
 "cells": [
  {
   "cell_type": "code",
   "execution_count": 2,
   "id": "2e24cc4b-622d-4b68-b1b2-55bdd3a47150",
   "metadata": {},
   "outputs": [],
   "source": [
    "import numpy as np\n",
    "import cupy as cp\n",
    "import ctypes\n",
    "from cupy.cuda import memory\n",
    "from cuquantum import custatevec as cusv\n",
    "from cuquantum import cudaDataType as cudtype"
   ]
  },
  {
   "cell_type": "markdown",
   "id": "c4eeac15-d223-426b-8fe0-f961c321f5af",
   "metadata": {},
   "source": [
    "# 一、单cuda流"
   ]
  },
  {
   "cell_type": "markdown",
   "id": "6aa5c38c-ca27-4232-bd1e-e84495f93a43",
   "metadata": {},
   "source": [
    "cuQuantum-python API 包括 cuStateVec 和 cuTensorNet，分别用于处理状态向量以及张量网络。\n",
    "与 C/C++ 不同，Python 不提供用于分配/释放主机内存（更不用说设备内存）的低级原语，对Python 代理对象正确进行内存管理非常重要。"
   ]
  },
  {
   "cell_type": "markdown",
   "id": "ac42e2a6-8dd9-4f8b-898f-57b70f6ad5fa",
   "metadata": {},
   "source": [
    "## 1.1内存管理"
   ]
  },
  {
   "cell_type": "markdown",
   "id": "64f75d8a-9131-471a-915a-83ea19f329e5",
   "metadata": {},
   "source": [
    "cuQuantum Python要求用户使用 NumPy（用于主机内存）和 CuPy（用于设备内存）来满足此类需求。"
   ]
  },
  {
   "cell_type": "markdown",
   "id": "19d9426c-9551-455c-ab41-bd432ed0ab45",
   "metadata": {},
   "source": [
    "如何使用 NumPy 和 CuPy"
   ]
  },
  {
   "cell_type": "markdown",
   "id": "dc388926-9e69-4a75-8709-efc77a04a37c",
   "metadata": {},
   "source": [
    "在主机内存中存储数据（NumPy,CuPy）："
   ]
  },
  {
   "cell_type": "code",
   "execution_count": 142,
   "id": "3a2d1ea8-36fa-4a37-9510-f342c475532d",
   "metadata": {},
   "outputs": [],
   "source": [
    "# 创建一个NumPy数组，存储在CPU内存中\n",
    "host_array = np.array([1.0, 2.0, 3.0])\n",
    "# 创建一个CuPy数组，存储在GPU内存中\n",
    "device_array = cp.array([1.0, 2.0, 3.0])"
   ]
  },
  {
   "cell_type": "markdown",
   "id": "e069b35f-31b8-4298-8d25-7b2456aed6e7",
   "metadata": {},
   "source": [
    "数据在主机内存与设备内存间转移"
   ]
  },
  {
   "cell_type": "code",
   "execution_count": 143,
   "id": "73caa1a6-9da7-4bb9-8123-64c2b8898e3e",
   "metadata": {},
   "outputs": [],
   "source": [
    "# 将NumPy数组从CPU内存传输到GPU内存\n",
    "device_array = cp.asarray(host_array)\n",
    "# 将CuPy数组从GPU内存传输到CPU内存\n",
    "host_array_back = cp.asnumpy(device_array)"
   ]
  },
  {
   "cell_type": "markdown",
   "id": "a6096fb3-2a06-474a-88e6-98196c6bed7b",
   "metadata": {},
   "source": [
    "使用 NumPy 和 CuPy 来创建主机（CPU）内存和设备（GPU）内存的缓冲区，并将它们传递给外部函数（my_func），该函数可以在 GPU 上或 CPU 上修改这些缓冲区的数据。"
   ]
  },
  {
   "cell_type": "code",
   "execution_count": 144,
   "id": "b35a0a64-d511-44f6-9377-8baf8b397e00",
   "metadata": {},
   "outputs": [],
   "source": [
    "# 定义一个简单的函数，模拟修改传入的缓冲区\n",
    "# 如果是主机内存，则乘以10，如果是设备内存，则加5\n",
    "def my_func(ptr, size, is_device=False):\n",
    "    if is_device:\n",
    "         # 如果是设备内存，假设传入的是一个设备内存指针\n",
    "        # 使用 cp.ndarray 并创建一个 MemoryPointer 对\n",
    "\n",
    "        buf = cp.ndarray(shape=(size,), dtype=cp.float64, memptr=ptr)  # 通过 memptr 传递指针\n",
    "        buf += 5  # 对设备内存中的每个元素加 5\n",
    "    else:\n",
    "        # 如果是主机内存，通过 ctypes 来操作\n",
    "        # 假设传入的是主机内存缓冲区的指针\n",
    "        buf = np.ctypeslib.as_array(ctypes.cast(ptr, ctypes.POINTER(ctypes.c_int32)), shape=(size,))\n",
    "        buf *= 10  # 对主机内存中的每个元素乘以 10"
   ]
  },
  {
   "cell_type": "code",
   "execution_count": 145,
   "id": "119a0d88-2237-49f0-b098-977f1f4ebdc5",
   "metadata": {},
   "outputs": [
    {
     "name": "stdout",
     "output_type": "stream",
     "text": [
      "Before modifying host buffer: [1 2 3 4 5]\n",
      "After modifying host buffer: [10 20 30 40 50]\n"
     ]
    }
   ],
   "source": [
    "# === 处理主机内存（NumPy） ===\n",
    "# 创建一个主机内存缓冲区，大小为 5，类型为 int32\n",
    "buf = np.empty((5,), dtype=np.int32)\n",
    "buf[:] = [1, 2, 3, 4, 5]  # 初始化缓冲区内容\n",
    "print(\"Before modifying host buffer:\", buf)\n",
    "# 通过 ctypes 获取 NumPy 数组的指针\n",
    "my_func(buf.ctypes.data, buf.size, is_device=False)\n",
    "print(\"After modifying host buffer:\", buf)"
   ]
  },
  {
   "cell_type": "markdown",
   "id": "41be14a9-ed0c-4d32-b10e-793288ce019d",
   "metadata": {},
   "source": [
    "从 cuQuantum Python v0.1.0 开始,指针地址只是简单地转换为纯 int以便传递。如果需要，用户可以完全控制（并负责）管理指针生命周期。"
   ]
  },
  {
   "cell_type": "markdown",
   "id": "88130bb9-1535-4c6a-9b22-bda0cf09164d",
   "metadata": {},
   "source": [
    "cuQuantum从v22.03开始,为用户提供了一个接口，用于将内存池引入 cuStateVec/cuTensorNet 库以供使用。\n",
    "用户在调用 API 之前不再需要管理任何临时工作区,库将从用户的池中提取内存（并在完成后将其返回）。"
   ]
  },
  {
   "cell_type": "markdown",
   "id": "9f8e079d-264b-43af-93c8-5281a0f9c8e8",
   "metadata": {},
   "source": [
    "## 1.2 example-Toffi门"
   ]
  },
  {
   "cell_type": "markdown",
   "id": "14987944-d6cd-492e-87e9-a35a0cddef01",
   "metadata": {},
   "source": [
    "1) 导入必要的库"
   ]
  },
  {
   "cell_type": "code",
   "execution_count": 181,
   "id": "8d90ed23-540a-4525-96ff-46368f0434ba",
   "metadata": {},
   "outputs": [],
   "source": [
    "import numpy as np\n",
    "import cupy as cp\n",
    "from cuquantum import custatevec as cusv\n",
    "from cuquantum import cudaDataType as cudtype\n",
    "from cuquantum import ComputeType as ctype"
   ]
  },
  {
   "cell_type": "markdown",
   "id": "2bb4e30e-aa0d-4384-9c3f-76fe5e567975",
   "metadata": {},
   "source": [
    "numpy：用于处理数组和数值计算。\\\n",
    "cupy：用于处理 GPU 加速的数组，这是 CuPy 库，它能在 NVIDIA GPU 上运行与 NumPy 类似的代码。\\\n",
    "cuquantum：一个用于量子计算的库，提供了与 cuStateVec 和 cuTensorNet 库的接口，用于量子计算的加速计算。这里我们主要使用 custatevec 来处理量子态向量。\\\n",
    "cudaDataType 和 ComputeType：这些导入了用于指定 CUDA 数据类型和计算类型的枚举，帮助指定在 CUDA 上进行计算时使用的数据类型和计算精度。"
   ]
  },
  {
   "cell_type": "markdown",
   "id": "5e3c73b3-0cb5-4b8e-8b4a-829edb8faa17",
   "metadata": {},
   "source": [
    "2) 初始化参数"
   ]
  },
  {
   "cell_type": "code",
   "execution_count": 190,
   "id": "db9b2b87-d875-420c-bd2b-6b974522c019",
   "metadata": {},
   "outputs": [],
   "source": [
    "nIndexBits = 3\n",
    "nSvSize = (1 << nIndexBits)\n",
    "nTargets = 1\n",
    "nControls = 2\n",
    "adjoint = 0\n",
    "\n",
    "targets = (2,)\n",
    "controls = (0, 1)"
   ]
  },
  {
   "cell_type": "markdown",
   "id": "a7282b63-2d99-4030-b7d2-281c58f36be3",
   "metadata": {},
   "source": [
    "nIndexBits：表示量子态向量的位数，3 位表示有 8 个量子比特。\\\n",
    "nSvSize：计算量子态向量的大小，1 << nIndexBits 等价于 2^3 = 8，因此有 8 个元素的量子态向量。\\\n",
    "nTargets：应用的目标量子比特的数量，这里是 1。\\\n",
    "nControls：应用的控制量子比特的数量，这里是 2。\\\n",
    "adjoint：表示是否计算矩阵的伴随矩阵，0 表示不计算伴随矩阵。\\\n",
    "targets 和 controls：分别是目标量子比特和控制量子比特的索引。"
   ]
  },
  {
   "cell_type": "markdown",
   "id": "90b4fb37-5d22-4c87-bd09-3d778956685f",
   "metadata": {},
   "source": [
    "3) 初始化量子态向量和矩阵"
   ]
  },
  {
   "cell_type": "code",
   "execution_count": 183,
   "id": "ea231bd9-df3b-4c23-94aa-73962e21571e",
   "metadata": {},
   "outputs": [],
   "source": [
    "d_sv = cp.asarray([[0.0, 0.0], [0.0, 0.1], [0.1, 0.1], [0.1, 0.2],\n",
    "                   [0.2, 0.2], [0.3, 0.3], [0.3, 0.4], [0.4, 0.5]], dtype=np.float64)\n",
    "d_sv = d_sv.view(np.complex128).reshape(-1)\n",
    "\n",
    "d_sv_result = cp.asarray([[0.0, 0.0], [0.0, 0.1], [0.1, 0.1], [0.4, 0.5],\n",
    "                          [0.2, 0.2], [0.3, 0.3], [0.3, 0.4], [0.1, 0.2]], dtype=np.float64)\n",
    "d_sv_result = d_sv_result.view(np.complex128).reshape(-1)\n",
    "\n",
    "d_matrix = cp.asarray([[0.0, 0.0], [1.0, 0.0], [1.0, 0.0], [0.0, 0.0]], dtype=np.float64)\n",
    "d_matrix = d_matrix.view(np.complex128).reshape(-1)"
   ]
  },
  {
   "cell_type": "markdown",
   "id": "4bd196f3-7025-4847-8421-abc294ad4837",
   "metadata": {},
   "source": [
    "d_sv：表示一个 量子态向量，它是一个二维数组，初始化为一个复杂的浮动矩阵，且通过 .view(np.complex128) 使得其数据类型为 complex128。\\\n",
    "d_sv_result：是预期的结果量子态向量，用于验证计算结果是否正确。\\\n",
    "d_matrix：表示一个 量子门矩阵，例如一个单量子比特门，它也是一个 complex128 数据类型的数组。"
   ]
  },
  {
   "cell_type": "markdown",
   "id": "30fa362b-8c75-4c03-ac5f-0d39b5fabb66",
   "metadata": {},
   "source": [
    "4) 初始化 cuStateVec 句柄"
   ]
  },
  {
   "cell_type": "code",
   "execution_count": 184,
   "id": "bc62b4ec-21a2-4b3b-a5fb-908c1e998379",
   "metadata": {},
   "outputs": [],
   "source": [
    "handle = cusv.create()"
   ]
  },
  {
   "cell_type": "markdown",
   "id": "7f3a4d6e-c0e3-414a-b211-ab88d1372928",
   "metadata": {},
   "source": [
    "cusv.create()：该函数创建一个 cuStateVec 句柄，这个句柄在后续的 API 调用中用于执行量子计算任务。"
   ]
  },
  {
   "cell_type": "markdown",
   "id": "2ff2f2db-305a-4fbe-a6fc-4fa2251baaf5",
   "metadata": {},
   "source": [
    "5) 计算外部工作区所需的内存大小"
   ]
  },
  {
   "cell_type": "code",
   "execution_count": 185,
   "id": "27958e4a-936c-4ec4-a514-78ab4d5a0c1b",
   "metadata": {},
   "outputs": [],
   "source": [
    "extraWorkspaceSizeInBytes = cusv.apply_matrix_get_workspace_size(\n",
    "    handle, cudtype.CUDA_C_64F, nIndexBits, d_matrix.data.ptr, cudtype.CUDA_C_64F,\n",
    "    cusv.MatrixLayout.ROW, adjoint, nTargets, nControls, ctype.COMPUTE_64F)"
   ]
  },
  {
   "cell_type": "markdown",
   "id": "ca2e4421-f0db-4ecd-82a2-d39cd1462f01",
   "metadata": {},
   "source": [
    "cusv.apply_matrix_get_workspace_size()：该函数计算在应用量子门矩阵时所需的外部工作区内存的大小。返回值是所需的内存大小，以字节为单位。\\\n",
    "参数解释：\\\n",
    "handle：句柄，表示量子计算的上下文。\\\n",
    "cudtype.CUDA_C_64F：指定数据类型，这里是 64 位浮点数。\\\n",
    "nIndexBits：量子比特数，决定量子态的大小。\\\n",
    "d_matrix.data.ptr：量子门矩阵的指针，表示在内存中的位置。\\\n",
    "cusv.MatrixLayout.ROW：矩阵布局，指定行优先排列。\\\n",
    "adjoint：是否计算矩阵的伴随矩阵。\\\n",
    "nTargets 和 nControls：目标量子比特和控制量子比特的数量。\\\n",
    "ctype.COMPUTE_64F：指定计算使用的精度类型。"
   ]
  },
  {
   "cell_type": "markdown",
   "id": "05ad2453-dec3-47bd-9db7-36847427b3b0",
   "metadata": {},
   "source": [
    "6) 如果需要，分配外部工作区内存"
   ]
  },
  {
   "cell_type": "code",
   "execution_count": 186,
   "id": "9ca71616-3b29-461b-b4da-e3fe0cd1be5e",
   "metadata": {},
   "outputs": [],
   "source": [
    "if extraWorkspaceSizeInBytes > 0:\n",
    "    workspace = cp.cuda.alloc(extraWorkspaceSizeInBytes)\n",
    "    workspace_ptr = workspace.ptr\n",
    "else:\n",
    "    workspace_ptr = 0"
   ]
  },
  {
   "cell_type": "markdown",
   "id": "eef2cb30-7d42-4432-8d78-fe9253481774",
   "metadata": {},
   "source": [
    "外部工作区：如果需要的内存大小大于 0，则使用 CuPy 分配设备内存（cp.cuda.alloc()）并返回指针。否则，工作区指针为 0，表示不需要额外内存。"
   ]
  },
  {
   "cell_type": "markdown",
   "id": "e2a3bf6e-94ee-43e1-a3e9-05db370cdce8",
   "metadata": {},
   "source": [
    "7) 应用量子门矩阵到量子态向量"
   ]
  },
  {
   "cell_type": "code",
   "execution_count": 187,
   "id": "4c376f5e-e370-4018-b01e-378c4992d80e",
   "metadata": {},
   "outputs": [],
   "source": [
    "cusv.apply_matrix(\n",
    "    handle, d_sv.data.ptr, cudtype.CUDA_C_64F, nIndexBits,\n",
    "    d_matrix.data.ptr, cudtype.CUDA_C_64F, cusv.MatrixLayout.ROW, adjoint,\n",
    "    targets, len(targets), controls, 0, len(controls), ctype.COMPUTE_64F,\n",
    "    workspace_ptr, extraWorkspaceSizeInBytes)\n"
   ]
  },
  {
   "cell_type": "markdown",
   "id": "37d245fb-3dd7-45f0-aaef-16795820fa21",
   "metadata": {},
   "source": [
    "cusv.apply_matrix()：该函数应用量子门矩阵到量子态向量。它使用 cuStateVec API 将量子门矩阵应用到量子态，并通过工作区执行计算。\\\n",
    "参数：\\\n",
    "handle：量子计算上下文。\\\n",
    "d_sv.data.ptr：量子态向量的指针。\\\n",
    "d_matrix.data.ptr：量子门矩阵的指针。\\\n",
    "nIndexBits：量子比特数。\\\n",
    "targets 和 controls：目标量子比特和控制量子比特的索引。\\\n",
    "workspace_ptr：工作区指针，指向分配的内存空间。\\\n",
    "extraWorkspaceSizeInBytes：所需工作区大小。"
   ]
  },
  {
   "cell_type": "markdown",
   "id": "fe8b96a5-8d70-470f-a45f-b410b8dceed6",
   "metadata": {},
   "source": [
    "8) 销毁句柄"
   ]
  },
  {
   "cell_type": "code",
   "execution_count": 188,
   "id": "6fe9279a-e3d6-4d90-80d9-7ab397e822c3",
   "metadata": {},
   "outputs": [],
   "source": [
    "cusv.destroy(handle)"
   ]
  },
  {
   "cell_type": "markdown",
   "id": "b1248cee-81d3-4f96-b07b-50b9c1575b7b",
   "metadata": {},
   "source": [
    "cusv.destroy()：销毁 cuStateVec 句柄，释放相关资源。"
   ]
  },
  {
   "cell_type": "markdown",
   "id": "a183896b-52a6-452d-b6c1-48d9ddc0a3bf",
   "metadata": {},
   "source": [
    "9)  检查计算结果是否正确"
   ]
  },
  {
   "cell_type": "code",
   "execution_count": 189,
   "id": "788833ef-a486-47dd-a671-3c4bbf457559",
   "metadata": {},
   "outputs": [],
   "source": [
    "correct = cp.allclose(d_sv, d_sv_result)\n",
    "if not correct:\n",
    "    raise RuntimeError(\"example FAILED: wrong result\")"
   ]
  },
  {
   "cell_type": "markdown",
   "id": "5b80e836-a915-430d-bffa-138c846790b6",
   "metadata": {},
   "source": [
    "cp.allclose()：检查计算后的量子态向量 d_sv 是否与预期结果 d_sv_result 相同。\n",
    "如果结果不匹配，则抛出异常，表示计算失败。"
   ]
  },
  {
   "cell_type": "markdown",
   "id": "7c73a02a-c487-4c54-9b16-1ec513578403",
   "metadata": {},
   "source": [
    "# 二、多Cuda流"
   ]
  },
  {
   "cell_type": "markdown",
   "id": "fb5f8321-81e4-4e87-be82-6940a728dbc5",
   "metadata": {},
   "source": [
    "## 2.1 Cuda流"
   ]
  },
  {
   "cell_type": "markdown",
   "id": "1b0061b0-42e3-4882-bd51-4c3c3940737d",
   "metadata": {},
   "source": [
    "大多数 cuStateVec API 的执行都是在附加到 创建的 cuStateVec 句柄的流上序列化的 初始流是默认流。\\\n",
    "用户可以通过调用 句柄custatevecSetStream() 将用户创建的流设置为 cuStateVec \\\n",
    "所有类型的流（默认、阻塞和非阻塞）都是可以接受的。"
   ]
  },
  {
   "cell_type": "code",
   "execution_count": 6,
   "id": "d974d0fb-6a25-4f0f-bcf2-c27ccb01b664",
   "metadata": {},
   "outputs": [],
   "source": [
    "import cupy as cp\n",
    "from cuquantum import custatevec as cusv\n",
    "from cuquantum import cudaDataType as cudtype\n",
    "from cuquantum import ComputeType as ctype\n",
    "\n",
    "# 参数配置\n",
    "nIndexBits = 3  # 3 个量子比特\n",
    "adjoint = 0  # 是否使用伴随矩阵\n",
    "targets = (2,)  # 目标量子比特\n",
    "controls = (0, 1)  # 控制量子比特\n",
    "\n",
    "# 创建两个自定义 CUDA 流\n",
    "stream1 = cp.cuda.Stream()  # 流1\n",
    "stream2 = cp.cuda.Stream()  # 流2\n",
    "\n",
    "# 为每个流创建一个 cuStateVec 上下文句柄\n",
    "handle1 = cusv.create()\n",
    "handle2 = cusv.create()\n",
    "\n",
    "# 将每个句柄绑定到不同的流\n",
    "cusv.set_stream(handle1, stream1.ptr)\n",
    "cusv.set_stream(handle2, stream2.ptr)\n",
    "\n",
    "# 为每个流分配独立的状态向量和量子门矩阵\n",
    "d_sv1 = cp.asarray([[0.0, 0.0], [0.0, 0.1], [0.1, 0.1], [0.1, 0.2],\n",
    "                    [0.2, 0.2], [0.3, 0.3], [0.3, 0.4], [0.4, 0.5]], dtype=cp.float64).view(cp.complex128)\n",
    "d_sv2 = cp.asarray([[0.2, 0.2], [0.3, 0.3], [0.3, 0.4], [0.4, 0.5],\n",
    "                    [0.1, 0.1], [0.2, 0.3], [0.4, 0.4], [0.5, 0.6]], dtype=cp.float64).view(cp.complex128)\n",
    "\n",
    "d_matrix = cp.asarray([[0.0, 0.0], [1.0, 0.0], [1.0, 0.0], [0.0, 0.0]], dtype=cp.float64).view(cp.complex128)\n",
    "\n",
    "# 获取每个流所需的工作区大小，并分配内存\n",
    "extraWorkspaceSizeInBytes1 = cusv.apply_matrix_get_workspace_size(\n",
    "    handle1, cudtype.CUDA_C_64F, nIndexBits, d_matrix.data.ptr, cudtype.CUDA_C_64F,\n",
    "    cusv.MatrixLayout.ROW, adjoint, len(targets), len(controls), ctype.COMPUTE_64F)\n",
    "\n",
    "extraWorkspaceSizeInBytes2 = cusv.apply_matrix_get_workspace_size(\n",
    "    handle2, cudtype.CUDA_C_64F, nIndexBits, d_matrix.data.ptr, cudtype.CUDA_C_64F,\n",
    "    cusv.MatrixLayout.ROW, adjoint, len(targets), len(controls), ctype.COMPUTE_64F)\n",
    "\n",
    "# 分配流1的工作区\n",
    "if extraWorkspaceSizeInBytes1 > 0:\n",
    "    workspace1 = cp.cuda.alloc(extraWorkspaceSizeInBytes1)\n",
    "    workspace_ptr1 = workspace1.ptr\n",
    "else:\n",
    "    workspace_ptr1 = 0\n",
    "\n",
    "# 分配流2的工作区\n",
    "if extraWorkspaceSizeInBytes2 > 0:\n",
    "    workspace2 = cp.cuda.alloc(extraWorkspaceSizeInBytes2)\n",
    "    workspace_ptr2 = workspace2.ptr\n",
    "else:\n",
    "    workspace_ptr2 = 0\n",
    "\n",
    "# 在流1上应用量子门\n",
    "cusv.apply_matrix(\n",
    "    handle1,                         # cuStateVec 句柄1\n",
    "    d_sv1.data.ptr,                  # 流1状态向量的设备指针\n",
    "    cudtype.CUDA_C_64F,              # 状态向量的数据类型\n",
    "    nIndexBits,                      # 量子比特数\n",
    "    d_matrix.data.ptr,               # 矩阵的设备指针\n",
    "    cudtype.CUDA_C_64F,              # 矩阵的数据类型\n",
    "    cusv.MatrixLayout.ROW,           # 矩阵布局\n",
    "    adjoint,                         # 是否为伴随矩阵\n",
    "    targets,                         # 目标位\n",
    "    len(targets),                    # 目标位数量\n",
    "    controls,                        # 控制位\n",
    "    0,                               # 控制位极性\n",
    "    len(controls),                   # 控制位数量\n",
    "    ctype.COMPUTE_64F,               # 计算类型\n",
    "    workspace_ptr1,                  # 流1的工作区指针\n",
    "    extraWorkspaceSizeInBytes1       # 流1的工作区大小\n",
    ")\n",
    "\n",
    "# 在流2上应用量子门\n",
    "cusv.apply_matrix(\n",
    "    handle2,                         # cuStateVec 句柄2\n",
    "    d_sv2.data.ptr,                  # 流2状态向量的设备指针\n",
    "    cudtype.CUDA_C_64F,              # 状态向量的数据类型\n",
    "    nIndexBits,                      # 量子比特数\n",
    "    d_matrix.data.ptr,               # 矩阵的设备指针\n",
    "    cudtype.CUDA_C_64F,              # 矩阵的数据类型\n",
    "    cusv.MatrixLayout.ROW,           # 矩阵布局\n",
    "    adjoint,                         # 是否为伴随矩阵\n",
    "    targets,                         # 目标位\n",
    "    len(targets),                    # 目标位数量\n",
    "    controls,                        # 控制位\n",
    "    0,                               # 控制位极性\n",
    "    len(controls),                   # 控制位数量\n",
    "    ctype.COMPUTE_64F,               # 计算类型\n",
    "    workspace_ptr2,                  # 流2的工作区指针\n",
    "    extraWorkspaceSizeInBytes2       # 流2的工作区大小\n",
    ")\n",
    "\n",
    "# 等待两个流中的任务完成\n",
    "stream1.synchronize()\n",
    "stream2.synchronize()\n",
    "\n",
    "# 销毁句柄，释放资源\n",
    "cusv.destroy(handle1)\n",
    "cusv.destroy(handle2)\n"
   ]
  },
  {
   "cell_type": "code",
   "execution_count": null,
   "id": "b57f76a1-8775-4b30-a09f-a2dff20d708a",
   "metadata": {},
   "outputs": [],
   "source": []
  }
 ],
 "metadata": {
  "kernelspec": {
   "display_name": "Python 3 (ipykernel)",
   "language": "python",
   "name": "python3"
  },
  "language_info": {
   "codemirror_mode": {
    "name": "ipython",
    "version": 3
   },
   "file_extension": ".py",
   "mimetype": "text/x-python",
   "name": "python",
   "nbconvert_exporter": "python",
   "pygments_lexer": "ipython3",
   "version": "3.12.2"
  }
 },
 "nbformat": 4,
 "nbformat_minor": 5
}
